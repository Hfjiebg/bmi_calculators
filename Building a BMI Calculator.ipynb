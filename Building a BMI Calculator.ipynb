{
 "cells": [
  {
   "cell_type": "markdown",
   "id": "d4a19c00-4fdc-4fb5-a534-467188b9ec60",
   "metadata": {},
   "source": [
    "# Building BMI calculators"
   ]
  },
  {
   "cell_type": "markdown",
   "id": "0eb0a98d-feeb-47d0-9c28-3e3e285715ad",
   "metadata": {},
   "source": [
    "For further details, check out this link:\n",
    "https://www.calculator.net/bmi-calculator.html"
   ]
  },
  {
   "cell_type": "markdown",
   "id": "2743805c-3c05-4413-9976-8f866bbb749f",
   "metadata": {},
   "source": [
    "## 1. BMI calculator (US units)"
   ]
  },
  {
   "cell_type": "code",
   "execution_count": 18,
   "id": "c161c0d6-021b-49c6-9048-32d9b109a219",
   "metadata": {},
   "outputs": [
    {
     "name": "stdin",
     "output_type": "stream",
     "text": [
      "Please enter your name:  Alex\n",
      "Please enter your weight in pounds:  170\n",
      "Please enter your height in inches:  69\n"
     ]
    },
    {
     "name": "stdout",
     "output_type": "stream",
     "text": [
      "Your BMI is: 25.101869355177485\n",
      "Alex, you are overweight.\n"
     ]
    }
   ],
   "source": [
    "# Prompt the user to enter their name\n",
    "name = input(\"Please enter your name: \")\n",
    "\n",
    "# Prompt the user to enter their weight in pounds\n",
    "weight = int(input(\"Please enter your weight in pounds: \"))\n",
    "\n",
    "# Prompt the user to enter their height in inches\n",
    "height = int(input(\"Please enter your height in inches: \"))\n",
    "\n",
    "# Calculate BMI using the formula for US units\n",
    "# Formula: BMI = (weight in pounds * 703) / (height in inches)^2\n",
    "BMI = (weight * 703) / (height * height)\n",
    "\n",
    "# Display the calculated BMI\n",
    "print(\"Your BMI is: \" + str(BMI))\n",
    "\n",
    "# Check if BMI is a positive number before categorizing\n",
    "if BMI > 0:\n",
    "    # Determine the BMI category based on the calculated value\n",
    "    if BMI < 18.5:\n",
    "        print(name + \", you are underweight.\")  # BMI less than 18.5 is underweight\n",
    "    elif BMI <= 24.9:\n",
    "        print(name + \", you have normal weight.\")  # BMI between 18.5 and 24.9 is normal weight\n",
    "    elif BMI < 29.9:\n",
    "        print(name + \", you are overweight.\")  # BMI between 25 and 29.9 is overweight\n",
    "    elif BMI < 34.9:\n",
    "        print(name + \", you are obese.\")  # BMI between 30 and 34.9 is obese\n",
    "    elif BMI < 39.9:\n",
    "        print(name + \", you are severely obese.\")  # BMI between 35 and 39.9 is severely obese\n",
    "    else:\n",
    "        print(name + \", you are morbidly obese.\")  # BMI 40 or more is morbidly obese\n",
    "else:\n",
    "    # Handle cases where BMI calculation is invalid\n",
    "    print(\"Please enter valid inputs.\")"
   ]
  },
  {
   "cell_type": "markdown",
   "id": "dc165339-8a5e-4e61-8186-de520410dda1",
   "metadata": {},
   "source": [
    "## 2. BMI calculator (metric units)"
   ]
  },
  {
   "cell_type": "code",
   "execution_count": 20,
   "id": "9cd545a6-76c5-4ffc-bd9d-78a4f39fe745",
   "metadata": {
    "scrolled": true
   },
   "outputs": [
    {
     "name": "stdin",
     "output_type": "stream",
     "text": [
      "Please enter your name:  Mariam\n",
      "Please enter your weight in kilograms:  65\n",
      "Please enter your height in meters:  1.5\n"
     ]
    },
    {
     "name": "stdout",
     "output_type": "stream",
     "text": [
      "Your BMI is: 28.88888888888889\n",
      "Mariam, you are overweight.\n"
     ]
    }
   ],
   "source": [
    "# Prompt the user to enter their name\n",
    "name = input(\"Please enter your name: \")\n",
    "\n",
    "# Prompt the user to enter their weight in kilograms\n",
    "weight = float(input(\"Please enter your weight in kilograms: \"))\n",
    "\n",
    "# Prompt the user to enter their height in meters\n",
    "height = float(input(\"Please enter your height in meters: \"))\n",
    "\n",
    "# Calculate BMI using the metric formula\n",
    "# Formula: BMI = weight in kilograms / (height in meters)^2\n",
    "BMI = weight / (height * height)\n",
    "\n",
    "# Display the calculated BMI\n",
    "print(\"Your BMI is: \" + str(BMI))\n",
    "\n",
    "# Check if BMI is a positive number before categorizing\n",
    "if BMI > 0:\n",
    "    # Determine the BMI category based on the calculated value\n",
    "    if BMI < 18.5:\n",
    "        print(name + \", you are underweight.\")  # BMI less than 18.5 is underweight\n",
    "    elif BMI <= 24.9:\n",
    "        print(name + \", you have normal weight.\")  # BMI between 18.5 and 24.9 is normal weight\n",
    "    elif BMI < 29.9:\n",
    "        print(name + \", you are overweight.\")  # BMI between 25 and 29.9 is overweight\n",
    "    elif BMI < 34.9:\n",
    "        print(name + \", you are obese.\")  # BMI between 30 and 34.9 is obese\n",
    "    elif BMI < 39.9:\n",
    "        print(name + \", you are severely obese.\")  # BMI between 35 and 39.9 is severely obese\n",
    "    else:\n",
    "        print(name + \", you are morbidly obese.\")  # BMI 40 or more is morbidly obese\n",
    "else:\n",
    "    # Handle cases where BMI calculation is invalid\n",
    "    print(\"Please enter valid inputs.\")"
   ]
  },
  {
   "cell_type": "code",
   "execution_count": null,
   "id": "8b61057a-0a00-4e04-81c9-92dfb4c6d901",
   "metadata": {},
   "outputs": [],
   "source": []
  }
 ],
 "metadata": {
  "kernelspec": {
   "display_name": "Python 3 (ipykernel)",
   "language": "python",
   "name": "python3"
  },
  "language_info": {
   "codemirror_mode": {
    "name": "ipython",
    "version": 3
   },
   "file_extension": ".py",
   "mimetype": "text/x-python",
   "name": "python",
   "nbconvert_exporter": "python",
   "pygments_lexer": "ipython3",
   "version": "3.12.7"
  }
 },
 "nbformat": 4,
 "nbformat_minor": 5
}
