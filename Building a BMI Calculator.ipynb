{
 "cells": [
  {
   "cell_type": "markdown",
   "id": "d4a19c00-4fdc-4fb5-a534-467188b9ec60",
   "metadata": {},
   "source": [
    "# Building BMI calculators"
   ]
  },
  {
   "cell_type": "markdown",
   "id": "0eb0a98d-feeb-47d0-9c28-3e3e285715ad",
   "metadata": {},
   "source": [
    "For more informations, check out this link:\n",
    "https://www.calculator.net/bmi-calculator.html"
   ]
  },
  {
   "cell_type": "markdown",
   "id": "2743805c-3c05-4413-9976-8f866bbb749f",
   "metadata": {},
   "source": [
    "## 1. BMI calculator (US units)"
   ]
  },
  {
   "cell_type": "code",
   "execution_count": null,
   "id": "c161c0d6-021b-49c6-9048-32d9b109a219",
   "metadata": {},
   "outputs": [],
   "source": [
    "name = input (\"Please enter your name: \")\n",
    "\n",
    "weight = int(input(\"Please enter your weight in pounds: \"))\n",
    "\n",
    "height = int(input(\"Please enter your height in inches: \"))\n",
    "\n",
    "BMI = (weight * 703) / (height * height)\n",
    "\n",
    "print (\"your BMI is: \" + str (BMI))\n",
    "\n",
    "if BMI > 0:\n",
    "    if BMI < 18.5:\n",
    "        print (name, \" you are underweight.\")\n",
    "    elif BMI <= 24.9:\n",
    "        print (name, \" you have normal weight.\")\n",
    "    elif BMI < 29.9:\n",
    "        print (name, \" you are overweight.\")\n",
    "    elif BMI < 34.9:\n",
    "        print (name, \" you are obese.\")\n",
    "    elif BMI < 39.9:\n",
    "        print (name, \" you are severely obese.\")\n",
    "    else:\n",
    "        print (name, \" you are morbidly obese.\")\n",
    "else:\n",
    "    print (\"Please enter valid inputs.\")"
   ]
  },
  {
   "cell_type": "markdown",
   "id": "dc165339-8a5e-4e61-8186-de520410dda1",
   "metadata": {},
   "source": [
    "## 2. BMI calculator (metric units)"
   ]
  },
  {
   "cell_type": "code",
   "execution_count": null,
   "id": "9cd545a6-76c5-4ffc-bd9d-78a4f39fe745",
   "metadata": {},
   "outputs": [],
   "source": [
    "name = input (\"Please enter your name: \")\n",
    "\n",
    "weight = int(input(\"Please enter your weight in Kg: \"))\n",
    "\n",
    "height = int(input(\"Please enter your height in m: \"))\n",
    "\n",
    "BMI = weight / (height * height)\n",
    "\n",
    "print (\"your BMI is: \" + str (BMI))\n",
    "\n",
    "if BMI > 0:\n",
    "    if BMI < 18.5:\n",
    "        print (name, \" you are underweight.\")\n",
    "    elif BMI <= 24.9:\n",
    "        print (name, \" you have normal weight.\")\n",
    "    elif BMI < 29.9:\n",
    "        print (name, \" you are overweight.\")\n",
    "    elif BMI < 34.9:\n",
    "        print (name, \" you are obese.\")\n",
    "    elif BMI < 39.9:\n",
    "        print (name, \" you are severely obese.\")\n",
    "    else:\n",
    "        print (name, \" you are morbidly obese.\")\n",
    "else:\n",
    "    print (\"Please enter valid inputs.\")"
   ]
  },
  {
   "cell_type": "code",
   "execution_count": null,
   "id": "8b61057a-0a00-4e04-81c9-92dfb4c6d901",
   "metadata": {},
   "outputs": [],
   "source": []
  }
 ],
 "metadata": {
  "kernelspec": {
   "display_name": "Python 3 (ipykernel)",
   "language": "python",
   "name": "python3"
  },
  "language_info": {
   "codemirror_mode": {
    "name": "ipython",
    "version": 3
   },
   "file_extension": ".py",
   "mimetype": "text/x-python",
   "name": "python",
   "nbconvert_exporter": "python",
   "pygments_lexer": "ipython3",
   "version": "3.12.7"
  }
 },
 "nbformat": 4,
 "nbformat_minor": 5
}
